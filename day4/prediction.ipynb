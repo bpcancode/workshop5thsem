{
 "cells": [
  {
   "cell_type": "code",
   "execution_count": 124,
   "id": "e764aa68",
   "metadata": {},
   "outputs": [
    {
     "data": {
      "text/plain": [
       "1.0"
      ]
     },
     "execution_count": 124,
     "metadata": {},
     "output_type": "execute_result"
    }
   ],
   "source": [
    "import pandas as pd\n",
    "from sklearn.tree import DecisionTreeClassifier\n",
    "from sklearn.model_selection import train_test_split\n",
    "from sklearn.metrics import accuracy_score\n",
    "\n",
    "data = pd.read_csv('marks.csv')\n",
    "x = data.drop(columns=['total', 'marks'])\n",
    "\n",
    "y = data['marks']\n",
    "\n",
    "X_train, x_test, Y_train, y_test = train_test_split(x, y, test_size=0.1)\n",
    "\n",
    "model = DecisionTreeClassifier()\n",
    "model.fit(x,y)\n",
    "\n",
    "prediction = model.predict(x_test)\n",
    "score = accuracy_score(y_test, prediction)\n",
    "score\n"
   ]
  },
  {
   "cell_type": "code",
   "execution_count": 125,
   "id": "8a1bddaa",
   "metadata": {},
   "outputs": [
    {
     "data": {
      "text/plain": [
       "['marks-prediction.joblib']"
      ]
     },
     "execution_count": 125,
     "metadata": {},
     "output_type": "execute_result"
    }
   ],
   "source": [
    "import joblib\n",
    "\n",
    "joblib.dump('model', 'marks-prediction.joblib')\n"
   ]
  }
 ],
 "metadata": {
  "kernelspec": {
   "display_name": "Python 3 (ipykernel)",
   "language": "python",
   "name": "python3"
  },
  "language_info": {
   "codemirror_mode": {
    "name": "ipython",
    "version": 3
   },
   "file_extension": ".py",
   "mimetype": "text/x-python",
   "name": "python",
   "nbconvert_exporter": "python",
   "pygments_lexer": "ipython3",
   "version": "3.11.3"
  }
 },
 "nbformat": 4,
 "nbformat_minor": 5
}
