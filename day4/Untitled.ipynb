{
 "cells": [
  {
   "cell_type": "code",
   "execution_count": 22,
   "id": "a4a26371",
   "metadata": {},
   "outputs": [],
   "source": [
    "import pandas as pd\n",
    "from sklearn.tree import DecisionTreeClassifier\n",
    "from sklearn import tree\n",
    "\n",
    "\n",
    "data = pd.read_csv('marks.csv')\n",
    "x = data.drop(columns=['total', 'marks'])\n",
    "y = data['marks']\n",
    "\n",
    "model = DecisionTreeClassifier()\n",
    "model.fit(x,y)\n",
    "\n",
    "tree.export_graphviz(model, out_file = 'weight-recommender.dot', feature_names = ['study_hours','practice_hours','sleep_hours'],\n",
    "                    label='all',\n",
    "                    rounded=True,\n",
    "                    filled=True)"
   ]
  }
 ],
 "metadata": {
  "kernelspec": {
   "display_name": "Python 3 (ipykernel)",
   "language": "python",
   "name": "python3"
  },
  "language_info": {
   "codemirror_mode": {
    "name": "ipython",
    "version": 3
   },
   "file_extension": ".py",
   "mimetype": "text/x-python",
   "name": "python",
   "nbconvert_exporter": "python",
   "pygments_lexer": "ipython3",
   "version": "3.11.3"
  }
 },
 "nbformat": 4,
 "nbformat_minor": 5
}
