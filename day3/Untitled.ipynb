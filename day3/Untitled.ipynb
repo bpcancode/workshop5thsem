{
 "cells": [
  {
   "cell_type": "code",
   "execution_count": 25,
   "id": "24bf6d83",
   "metadata": {},
   "outputs": [
    {
     "name": "stderr",
     "output_type": "stream",
     "text": [
      "E:\\anoconda\\Lib\\site-packages\\sklearn\\base.py:439: UserWarning: X does not have valid feature names, but DecisionTreeClassifier was fitted with feature names\n",
      "  warnings.warn(\n"
     ]
    },
    {
     "data": {
      "text/plain": [
       "array([52], dtype=int64)"
      ]
     },
     "execution_count": 25,
     "metadata": {},
     "output_type": "execute_result"
    }
   ],
   "source": [
    "import pandas as pd\n",
    "import numpy as np\n",
    "from sklearn.tree import DecisionTreeClassifier\n",
    "\n",
    "data = pd.read_csv('dt.csv')\n",
    "\n",
    "# input variables\n",
    "x = data.drop(columns=['weight'])\n",
    "\n",
    "# output variables\n",
    "y = data.drop(columns=['age', 'height'])\n",
    "\n",
    "# creating the train model\n",
    "model = DecisionTreeClassifier()\n",
    "\n",
    "#importing our input and output data in the model\n",
    "model.fit(x,y)\n",
    "\n",
    "# making prediction\n",
    "prediction = model.predict([[21,167]])\n",
    "\n",
    "# age 10 and height 155 is our input\n",
    "prediction\n",
    "\n"
   ]
  },
  {
   "cell_type": "code",
   "execution_count": null,
   "id": "9befa612",
   "metadata": {},
   "outputs": [],
   "source": []
  }
 ],
 "metadata": {
  "kernelspec": {
   "display_name": "Python 3 (ipykernel)",
   "language": "python",
   "name": "python3"
  },
  "language_info": {
   "codemirror_mode": {
    "name": "ipython",
    "version": 3
   },
   "file_extension": ".py",
   "mimetype": "text/x-python",
   "name": "python",
   "nbconvert_exporter": "python",
   "pygments_lexer": "ipython3",
   "version": "3.11.3"
  }
 },
 "nbformat": 4,
 "nbformat_minor": 5
}
