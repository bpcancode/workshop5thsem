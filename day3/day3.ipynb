{
 "cells": [
  {
   "cell_type": "code",
   "execution_count": 1,
   "id": "6d4c81b8",
   "metadata": {},
   "outputs": [],
   "source": [
    "import pandas as pd\n",
    "data = pd.read_csv('untitled.csv')\n",
    "data.info('Age')\n",
    "data.head()\n",
    "data.tail()\n",
    "data.describe()\n",
    "data['Price']\n",
    "\n",
    "X = data.drop(columns=['Price'])\n",
    "hello = data[data['Age']<5]\n",
    "hello\n",
    "\n",
    "new_data = {'name':['Hari', 'Sita'], 'age':[10,20], 'address':['dharan', 'pokhara']}\n",
    "new = pd.DataFrame(new_data)\n",
    "new.assign(province=['Province 1', 'province 2'])\n",
    "new.assign(number=[1,2])\n",
    "new\n",
    "two = {'number':[1,2], 'house_no':['10', '55']}\n",
    "\n",
    "\n",
    "\n",
    "json_data = pd.read_json('EmployeeData.json')\n",
    "new = pd.DataFrame(json_data)\n",
    "new"
   ]
  },
  {
   "cell_type": "code",
   "execution_count": 22,
   "id": "a5a1f9c4",
   "metadata": {},
   "outputs": [
    {
     "data": {
      "text/plain": [
       "array([ 6, 10, 15, 18])"
      ]
     },
     "execution_count": 22,
     "metadata": {},
     "output_type": "execute_result"
    }
   ],
   "source": [
    "import numpy as np\n",
    "\n",
    "arr1 = np.array([18,3,10,6,15])\n",
    "arr2 = np.array([18,15,10,6,15])\n",
    "\n",
    "# print(arr1+arr2)\n",
    "# print(arr1-arr2)\n",
    "# print(arr1*arr2)\n",
    "# print(arr1/arr2)\n",
    "\n",
    "# print(np.max(arr1))\n",
    "# print(np.min(arr2))\n",
    "\n",
    "# zeros = np.zeros((2,1))\n",
    "# zeros\n",
    "\n",
    "random_matrix =  np.random.randint(0,100, size=(2,2))\n",
    "random_matrix\n",
    "\n",
    "np.mean(arr1)\n",
    "np.median(arr1)\n",
    "np.std(arr2)\n",
    "np.unique(arr2)\n",
    "\n"
   ]
  },
  {
   "cell_type": "code",
   "execution_count": null,
   "id": "a6073b14",
   "metadata": {},
   "outputs": [],
   "source": []
  }
 ],
 "metadata": {
  "kernelspec": {
   "display_name": "Python 3 (ipykernel)",
   "language": "python",
   "name": "python3"
  },
  "language_info": {
   "codemirror_mode": {
    "name": "ipython",
    "version": 3
   },
   "file_extension": ".py",
   "mimetype": "text/x-python",
   "name": "python",
   "nbconvert_exporter": "python",
   "pygments_lexer": "ipython3",
   "version": "3.11.3"
  }
 },
 "nbformat": 4,
 "nbformat_minor": 5
}
